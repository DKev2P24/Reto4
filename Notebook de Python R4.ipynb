{
 "cells": [
  {
   "cell_type": "markdown",
   "metadata": {},
   "source": [
    "# Reto 4\n",
    "\n",
    "## Aqui se encuentran los problemas descritos en la clase 7"
   ]
  },
  {
   "cell_type": "markdown",
   "metadata": {},
   "source": [
    "### Dado un número entero, determinar si ese número corresponde al código ASCII de una vocal minúscula."
   ]
  },
  {
   "cell_type": "code",
   "execution_count": null,
   "metadata": {},
   "outputs": [],
   "source": [
    "n = input(\"Escribe un número entero: \") \n",
    "    \n",
    "if n == \"97\":\n",
    "     print(\"Sí, es \" + chr(int(n)))  \n",
    "elif n == \"101\":\n",
    "     print(\"Sí, es \" + chr(int(n)))\n",
    "elif n == \"105\":\n",
    "     print(\"Sí, es \" + chr(int(n)))\n",
    "elif n == \"111\":\n",
    "     print(\"Sí, es \" + chr(int(n)))\n",
    "elif n == \"117\":\n",
    "     print(\"Sí, es \" + chr(int(n)))\n",
    "else:\n",
    "     print(\"No corresponde a ninguna vocal\")"
   ]
  },
  {
   "cell_type": "markdown",
   "metadata": {},
   "source": [
    "### Dada una cadena de longitud 1, determine si el código ASCII de primera letra de la cadena es par o no."
   ]
  },
  {
   "cell_type": "code",
   "execution_count": null,
   "metadata": {},
   "outputs": [],
   "source": [
    "n = input(\"Escribe una letra: \")\n",
    "z = ord(n) % 2 \n",
    "\n",
    "if z == 0:\n",
    "    print(\"El codigo ASCII de \" + n + \" es par\")\n",
    "else:\n",
    "    print(\"El código ASCII de \" + n + \" no es par\") \n"
   ]
  },
  {
   "cell_type": "markdown",
   "metadata": {},
   "source": [
    "### Dado un carácter, construya un programa en Python para determinar si el carácter es un dígito o no."
   ]
  },
  {
   "cell_type": "code",
   "execution_count": null,
   "metadata": {},
   "outputs": [],
   "source": [
    "m = input(\"Escribe un carácter: \")\n",
    "if m.isdigit():\n",
    "    print(str(m) + \" es un dígito.\")\n",
    "else:\n",
    "    print(str(m) + \" no es un dígito.\")"
   ]
  },
  {
   "cell_type": "markdown",
   "metadata": {},
   "source": [
    "### Dado un número real x, construya un programa que permita determinar si el número es positivo, negativo o cero. "
   ]
  },
  {
   "cell_type": "code",
   "execution_count": null,
   "metadata": {},
   "outputs": [],
   "source": [
    "n = float(input(\"Escribe un número: \"))\n",
    "if n > 0:\n",
    "    print(\"El número \" + str(n) + \" es positivo\")\n",
    "elif n == 0:\n",
    "    print(\"El número \" + str(n) + \" es el neutro para la suma\")\n",
    "else:\n",
    "    print(\"El número \" + str(n) + \" es negativo\")"
   ]
  },
  {
   "cell_type": "markdown",
   "metadata": {},
   "source": [
    "### Dado el centro y el radio de un círculo, determinar si un punto de R2 pertenece o no al interior del círculo."
   ]
  },
  {
   "cell_type": "code",
   "execution_count": null,
   "metadata": {},
   "outputs": [],
   "source": [
    "m = float(input(\"Escribe la coordenada 'x' del punto: \"))\n",
    "n = float(input(\"Escribe la coordenada 'y' del punto: \"))\n",
    "x = float(input(\"Escribe la coordenada 'x' del centro: \"))\n",
    "y = float(input(\"Escribe la coordenada 'y' del centro: \"))\n",
    "z = float(input(\"Escribe el radio del círculo: \"))\n",
    "\n",
    "if z**2 > (m - x)**2 + (n - y)**2:\n",
    "    print(\"El punto (\" + str(m) + \", \" + str(n) + \") pertenece al interior del círculo\")\n",
    "else:\n",
    "    print(\"El punto (\" + str(m) + \", \" + str(n) + \") no pertenece al interior del círculo\")"
   ]
  },
  {
   "cell_type": "markdown",
   "metadata": {},
   "source": [
    "### Dadas tres longitudes positivas, determinar si con esas longitudes se puede construir un triángulo."
   ]
  },
  {
   "cell_type": "code",
   "execution_count": null,
   "metadata": {},
   "outputs": [],
   "source": [
    "o = float(input(\"Escribe una longitud: \"))\n",
    "p = float(input(\"Escribe la segunda longitud: \"))\n",
    "q = float(input(\"Escribe la tercera longitud: \"))\n",
    "z = \"se puede crear un triángulo\"\n",
    "if o < p + q and o > abs(p - q):\n",
    "    print(z)\n",
    "elif p < o + q and p > abs(o - q):\n",
    "    print(z)\n",
    "elif q < o + p and q > abs(o - p):\n",
    "    print(z)\n",
    "else:\n",
    "    print(\"No se puede crear un triángulo\")"
   ]
  }
 ],
 "metadata": {
  "kernelspec": {
   "display_name": "Python 3",
   "language": "python",
   "name": "python3"
  },
  "language_info": {
   "codemirror_mode": {
    "name": "ipython",
    "version": 3
   },
   "file_extension": ".py",
   "mimetype": "text/x-python",
   "name": "python",
   "nbconvert_exporter": "python",
   "pygments_lexer": "ipython3",
   "version": "3.12.2"
  }
 },
 "nbformat": 4,
 "nbformat_minor": 2
}
